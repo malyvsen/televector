{
 "nbformat": 4,
 "nbformat_minor": 2,
 "metadata": {
  "language_info": {
   "name": "python",
   "codemirror_mode": {
    "name": "ipython",
    "version": 3
   },
   "version": "3.7.6-final"
  },
  "orig_nbformat": 2,
  "file_extension": ".py",
  "mimetype": "text/x-python",
  "name": "python",
  "npconvert_exporter": "python",
  "pygments_lexer": "ipython3",
  "version": 3,
  "kernelspec": {
   "name": "python37664bitaivenv162692f402a54c6289ea730fbff96ce0",
   "display_name": "Python 3.7.6 64-bit ('ai': venv)"
  }
 },
 "cells": [
  {
   "cell_type": "code",
   "execution_count": 1,
   "metadata": {},
   "outputs": [],
   "source": [
    "import numpy as np\n",
    "import plotly.graph_objects as go\n",
    "from IPython.display import Audio"
   ]
  },
  {
   "cell_type": "code",
   "execution_count": 2,
   "metadata": {},
   "outputs": [],
   "source": [
    "class Shape:\n",
    "    def __init__(self, refresh_rate=1000, carrier_rate=16000, amplification=[1., 1.]):\n",
    "        self.refresh_rate = refresh_rate\n",
    "        self.carrier_rate = carrier_rate\n",
    "        self.amplification = amplification\n",
    "    \n",
    "    def play(self, duration):\n",
    "        signal = self.signal(duration)\n",
    "        return Audio(signal, rate=self.carrier_rate)\n",
    "    \n",
    "    def show(self):\n",
    "        derivative = self.derivative(1/self.refresh_rate)\n",
    "        return go.Figure(layout={\n",
    "            'title': f'{type(self).__name__}',\n",
    "            'autosize': False,\n",
    "            'width': 700,\n",
    "            'height': 700,\n",
    "            'template': 'plotly_dark'\n",
    "        }).add_trace(go.Scatter(\n",
    "            x=derivative[0],\n",
    "            y=derivative[1]\n",
    "        ))\n",
    "    \n",
    "    def signal(self, duration):\n",
    "        derivative = self.derivative(duration)\n",
    "        integral = np.cumsum(derivative, axis=1)\n",
    "        return integral # TODO: could subtract rolling mean or high-pass to stop this from wandering too far from 0\n",
    "    \n",
    "    def derivative(self, duration):\n",
    "        sequence = np.linspace(\n",
    "            start=0,\n",
    "            stop=duration * self.refresh_rate,\n",
    "            num=int(duration * self.carrier_rate)\n",
    "        )\n",
    "        signal = np.stack((self.dx(sequence), self.dy(sequence)), axis=-1)\n",
    "        signal *= self.amplification\n",
    "        signal = np.moveaxis(signal, -1, 0)\n",
    "        return signal"
   ]
  },
  {
   "cell_type": "code",
   "execution_count": 3,
   "metadata": {},
   "outputs": [],
   "source": [
    "class Circle(Shape):\n",
    "    def x(self, sequence):\n",
    "        return np.sin(2. * np.pi * sequence)\n",
    "    \n",
    "    def y(self, sequence):\n",
    "        return np.cos(2. * np.pi * sequence)"
   ]
  },
  {
   "cell_type": "code",
   "execution_count": 4,
   "metadata": {},
   "outputs": [],
   "source": [
    "circle = Circle(amplification=[1, 4])"
   ]
  },
  {
   "cell_type": "code",
   "execution_count": 5,
   "metadata": {},
   "outputs": [
    {
     "data": {
      "application/vnd.plotly.v1+json": {
       "config": {
        "plotlyServerURL": "https://plot.ly"
       },
       "data": [
        {
         "type": "scatter",
         "x": [
          0,
          0.40673664307580015,
          0.7431448254773941,
          0.9510565162951535,
          0.9945218953682734,
          0.8660254037844387,
          0.5877852522924732,
          0.20791169081775931,
          -0.20791169081775907,
          -0.587785252292473,
          -0.8660254037844384,
          -0.9945218953682733,
          -0.9510565162951536,
          -0.743144825477394,
          -0.40673664307580015,
          -2.4492935982947064e-16
         ],
         "y": [
          4,
          3.6541818305704035,
          2.676522425435433,
          1.2360679774997898,
          -0.41811385307061333,
          -1.9999999999999991,
          -3.2360679774997894,
          -3.9125904029352228,
          -3.9125904029352228,
          -3.2360679774997902,
          -2.0000000000000018,
          -0.41811385307061694,
          1.236067977499789,
          2.676522425435434,
          3.654181830570404,
          4
         ]
        }
       ],
       "layout": {
        "autosize": false,
        "height": 700,
        "template": {
         "data": {
          "bar": [
           {
            "error_x": {
             "color": "#f2f5fa"
            },
            "error_y": {
             "color": "#f2f5fa"
            },
            "marker": {
             "line": {
              "color": "rgb(17,17,17)",
              "width": 0.5
             }
            },
            "type": "bar"
           }
          ],
          "barpolar": [
           {
            "marker": {
             "line": {
              "color": "rgb(17,17,17)",
              "width": 0.5
             }
            },
            "type": "barpolar"
           }
          ],
          "carpet": [
           {
            "aaxis": {
             "endlinecolor": "#A2B1C6",
             "gridcolor": "#506784",
             "linecolor": "#506784",
             "minorgridcolor": "#506784",
             "startlinecolor": "#A2B1C6"
            },
            "baxis": {
             "endlinecolor": "#A2B1C6",
             "gridcolor": "#506784",
             "linecolor": "#506784",
             "minorgridcolor": "#506784",
             "startlinecolor": "#A2B1C6"
            },
            "type": "carpet"
           }
          ],
          "choropleth": [
           {
            "colorbar": {
             "outlinewidth": 0,
             "ticks": ""
            },
            "type": "choropleth"
           }
          ],
          "contour": [
           {
            "colorbar": {
             "outlinewidth": 0,
             "ticks": ""
            },
            "colorscale": [
             [
              0,
              "#0d0887"
             ],
             [
              0.1111111111111111,
              "#46039f"
             ],
             [
              0.2222222222222222,
              "#7201a8"
             ],
             [
              0.3333333333333333,
              "#9c179e"
             ],
             [
              0.4444444444444444,
              "#bd3786"
             ],
             [
              0.5555555555555556,
              "#d8576b"
             ],
             [
              0.6666666666666666,
              "#ed7953"
             ],
             [
              0.7777777777777778,
              "#fb9f3a"
             ],
             [
              0.8888888888888888,
              "#fdca26"
             ],
             [
              1,
              "#f0f921"
             ]
            ],
            "type": "contour"
           }
          ],
          "contourcarpet": [
           {
            "colorbar": {
             "outlinewidth": 0,
             "ticks": ""
            },
            "type": "contourcarpet"
           }
          ],
          "heatmap": [
           {
            "colorbar": {
             "outlinewidth": 0,
             "ticks": ""
            },
            "colorscale": [
             [
              0,
              "#0d0887"
             ],
             [
              0.1111111111111111,
              "#46039f"
             ],
             [
              0.2222222222222222,
              "#7201a8"
             ],
             [
              0.3333333333333333,
              "#9c179e"
             ],
             [
              0.4444444444444444,
              "#bd3786"
             ],
             [
              0.5555555555555556,
              "#d8576b"
             ],
             [
              0.6666666666666666,
              "#ed7953"
             ],
             [
              0.7777777777777778,
              "#fb9f3a"
             ],
             [
              0.8888888888888888,
              "#fdca26"
             ],
             [
              1,
              "#f0f921"
             ]
            ],
            "type": "heatmap"
           }
          ],
          "heatmapgl": [
           {
            "colorbar": {
             "outlinewidth": 0,
             "ticks": ""
            },
            "colorscale": [
             [
              0,
              "#0d0887"
             ],
             [
              0.1111111111111111,
              "#46039f"
             ],
             [
              0.2222222222222222,
              "#7201a8"
             ],
             [
              0.3333333333333333,
              "#9c179e"
             ],
             [
              0.4444444444444444,
              "#bd3786"
             ],
             [
              0.5555555555555556,
              "#d8576b"
             ],
             [
              0.6666666666666666,
              "#ed7953"
             ],
             [
              0.7777777777777778,
              "#fb9f3a"
             ],
             [
              0.8888888888888888,
              "#fdca26"
             ],
             [
              1,
              "#f0f921"
             ]
            ],
            "type": "heatmapgl"
           }
          ],
          "histogram": [
           {
            "marker": {
             "colorbar": {
              "outlinewidth": 0,
              "ticks": ""
             }
            },
            "type": "histogram"
           }
          ],
          "histogram2d": [
           {
            "colorbar": {
             "outlinewidth": 0,
             "ticks": ""
            },
            "colorscale": [
             [
              0,
              "#0d0887"
             ],
             [
              0.1111111111111111,
              "#46039f"
             ],
             [
              0.2222222222222222,
              "#7201a8"
             ],
             [
              0.3333333333333333,
              "#9c179e"
             ],
             [
              0.4444444444444444,
              "#bd3786"
             ],
             [
              0.5555555555555556,
              "#d8576b"
             ],
             [
              0.6666666666666666,
              "#ed7953"
             ],
             [
              0.7777777777777778,
              "#fb9f3a"
             ],
             [
              0.8888888888888888,
              "#fdca26"
             ],
             [
              1,
              "#f0f921"
             ]
            ],
            "type": "histogram2d"
           }
          ],
          "histogram2dcontour": [
           {
            "colorbar": {
             "outlinewidth": 0,
             "ticks": ""
            },
            "colorscale": [
             [
              0,
              "#0d0887"
             ],
             [
              0.1111111111111111,
              "#46039f"
             ],
             [
              0.2222222222222222,
              "#7201a8"
             ],
             [
              0.3333333333333333,
              "#9c179e"
             ],
             [
              0.4444444444444444,
              "#bd3786"
             ],
             [
              0.5555555555555556,
              "#d8576b"
             ],
             [
              0.6666666666666666,
              "#ed7953"
             ],
             [
              0.7777777777777778,
              "#fb9f3a"
             ],
             [
              0.8888888888888888,
              "#fdca26"
             ],
             [
              1,
              "#f0f921"
             ]
            ],
            "type": "histogram2dcontour"
           }
          ],
          "mesh3d": [
           {
            "colorbar": {
             "outlinewidth": 0,
             "ticks": ""
            },
            "type": "mesh3d"
           }
          ],
          "parcoords": [
           {
            "line": {
             "colorbar": {
              "outlinewidth": 0,
              "ticks": ""
             }
            },
            "type": "parcoords"
           }
          ],
          "pie": [
           {
            "automargin": true,
            "type": "pie"
           }
          ],
          "scatter": [
           {
            "marker": {
             "line": {
              "color": "#283442"
             }
            },
            "type": "scatter"
           }
          ],
          "scatter3d": [
           {
            "line": {
             "colorbar": {
              "outlinewidth": 0,
              "ticks": ""
             }
            },
            "marker": {
             "colorbar": {
              "outlinewidth": 0,
              "ticks": ""
             }
            },
            "type": "scatter3d"
           }
          ],
          "scattercarpet": [
           {
            "marker": {
             "colorbar": {
              "outlinewidth": 0,
              "ticks": ""
             }
            },
            "type": "scattercarpet"
           }
          ],
          "scattergeo": [
           {
            "marker": {
             "colorbar": {
              "outlinewidth": 0,
              "ticks": ""
             }
            },
            "type": "scattergeo"
           }
          ],
          "scattergl": [
           {
            "marker": {
             "line": {
              "color": "#283442"
             }
            },
            "type": "scattergl"
           }
          ],
          "scattermapbox": [
           {
            "marker": {
             "colorbar": {
              "outlinewidth": 0,
              "ticks": ""
             }
            },
            "type": "scattermapbox"
           }
          ],
          "scatterpolar": [
           {
            "marker": {
             "colorbar": {
              "outlinewidth": 0,
              "ticks": ""
             }
            },
            "type": "scatterpolar"
           }
          ],
          "scatterpolargl": [
           {
            "marker": {
             "colorbar": {
              "outlinewidth": 0,
              "ticks": ""
             }
            },
            "type": "scatterpolargl"
           }
          ],
          "scatterternary": [
           {
            "marker": {
             "colorbar": {
              "outlinewidth": 0,
              "ticks": ""
             }
            },
            "type": "scatterternary"
           }
          ],
          "surface": [
           {
            "colorbar": {
             "outlinewidth": 0,
             "ticks": ""
            },
            "colorscale": [
             [
              0,
              "#0d0887"
             ],
             [
              0.1111111111111111,
              "#46039f"
             ],
             [
              0.2222222222222222,
              "#7201a8"
             ],
             [
              0.3333333333333333,
              "#9c179e"
             ],
             [
              0.4444444444444444,
              "#bd3786"
             ],
             [
              0.5555555555555556,
              "#d8576b"
             ],
             [
              0.6666666666666666,
              "#ed7953"
             ],
             [
              0.7777777777777778,
              "#fb9f3a"
             ],
             [
              0.8888888888888888,
              "#fdca26"
             ],
             [
              1,
              "#f0f921"
             ]
            ],
            "type": "surface"
           }
          ],
          "table": [
           {
            "cells": {
             "fill": {
              "color": "#506784"
             },
             "line": {
              "color": "rgb(17,17,17)"
             }
            },
            "header": {
             "fill": {
              "color": "#2a3f5f"
             },
             "line": {
              "color": "rgb(17,17,17)"
             }
            },
            "type": "table"
           }
          ]
         },
         "layout": {
          "annotationdefaults": {
           "arrowcolor": "#f2f5fa",
           "arrowhead": 0,
           "arrowwidth": 1
          },
          "coloraxis": {
           "colorbar": {
            "outlinewidth": 0,
            "ticks": ""
           }
          },
          "colorscale": {
           "diverging": [
            [
             0,
             "#8e0152"
            ],
            [
             0.1,
             "#c51b7d"
            ],
            [
             0.2,
             "#de77ae"
            ],
            [
             0.3,
             "#f1b6da"
            ],
            [
             0.4,
             "#fde0ef"
            ],
            [
             0.5,
             "#f7f7f7"
            ],
            [
             0.6,
             "#e6f5d0"
            ],
            [
             0.7,
             "#b8e186"
            ],
            [
             0.8,
             "#7fbc41"
            ],
            [
             0.9,
             "#4d9221"
            ],
            [
             1,
             "#276419"
            ]
           ],
           "sequential": [
            [
             0,
             "#0d0887"
            ],
            [
             0.1111111111111111,
             "#46039f"
            ],
            [
             0.2222222222222222,
             "#7201a8"
            ],
            [
             0.3333333333333333,
             "#9c179e"
            ],
            [
             0.4444444444444444,
             "#bd3786"
            ],
            [
             0.5555555555555556,
             "#d8576b"
            ],
            [
             0.6666666666666666,
             "#ed7953"
            ],
            [
             0.7777777777777778,
             "#fb9f3a"
            ],
            [
             0.8888888888888888,
             "#fdca26"
            ],
            [
             1,
             "#f0f921"
            ]
           ],
           "sequentialminus": [
            [
             0,
             "#0d0887"
            ],
            [
             0.1111111111111111,
             "#46039f"
            ],
            [
             0.2222222222222222,
             "#7201a8"
            ],
            [
             0.3333333333333333,
             "#9c179e"
            ],
            [
             0.4444444444444444,
             "#bd3786"
            ],
            [
             0.5555555555555556,
             "#d8576b"
            ],
            [
             0.6666666666666666,
             "#ed7953"
            ],
            [
             0.7777777777777778,
             "#fb9f3a"
            ],
            [
             0.8888888888888888,
             "#fdca26"
            ],
            [
             1,
             "#f0f921"
            ]
           ]
          },
          "colorway": [
           "#636efa",
           "#EF553B",
           "#00cc96",
           "#ab63fa",
           "#FFA15A",
           "#19d3f3",
           "#FF6692",
           "#B6E880",
           "#FF97FF",
           "#FECB52"
          ],
          "font": {
           "color": "#f2f5fa"
          },
          "geo": {
           "bgcolor": "rgb(17,17,17)",
           "lakecolor": "rgb(17,17,17)",
           "landcolor": "rgb(17,17,17)",
           "showlakes": true,
           "showland": true,
           "subunitcolor": "#506784"
          },
          "hoverlabel": {
           "align": "left"
          },
          "hovermode": "closest",
          "mapbox": {
           "style": "dark"
          },
          "paper_bgcolor": "rgb(17,17,17)",
          "plot_bgcolor": "rgb(17,17,17)",
          "polar": {
           "angularaxis": {
            "gridcolor": "#506784",
            "linecolor": "#506784",
            "ticks": ""
           },
           "bgcolor": "rgb(17,17,17)",
           "radialaxis": {
            "gridcolor": "#506784",
            "linecolor": "#506784",
            "ticks": ""
           }
          },
          "scene": {
           "xaxis": {
            "backgroundcolor": "rgb(17,17,17)",
            "gridcolor": "#506784",
            "gridwidth": 2,
            "linecolor": "#506784",
            "showbackground": true,
            "ticks": "",
            "zerolinecolor": "#C8D4E3"
           },
           "yaxis": {
            "backgroundcolor": "rgb(17,17,17)",
            "gridcolor": "#506784",
            "gridwidth": 2,
            "linecolor": "#506784",
            "showbackground": true,
            "ticks": "",
            "zerolinecolor": "#C8D4E3"
           },
           "zaxis": {
            "backgroundcolor": "rgb(17,17,17)",
            "gridcolor": "#506784",
            "gridwidth": 2,
            "linecolor": "#506784",
            "showbackground": true,
            "ticks": "",
            "zerolinecolor": "#C8D4E3"
           }
          },
          "shapedefaults": {
           "line": {
            "color": "#f2f5fa"
           }
          },
          "sliderdefaults": {
           "bgcolor": "#C8D4E3",
           "bordercolor": "rgb(17,17,17)",
           "borderwidth": 1,
           "tickwidth": 0
          },
          "ternary": {
           "aaxis": {
            "gridcolor": "#506784",
            "linecolor": "#506784",
            "ticks": ""
           },
           "baxis": {
            "gridcolor": "#506784",
            "linecolor": "#506784",
            "ticks": ""
           },
           "bgcolor": "rgb(17,17,17)",
           "caxis": {
            "gridcolor": "#506784",
            "linecolor": "#506784",
            "ticks": ""
           }
          },
          "title": {
           "x": 0.05
          },
          "updatemenudefaults": {
           "bgcolor": "#506784",
           "borderwidth": 0
          },
          "xaxis": {
           "automargin": true,
           "gridcolor": "#283442",
           "linecolor": "#506784",
           "ticks": "",
           "title": {
            "standoff": 15
           },
           "zerolinecolor": "#283442",
           "zerolinewidth": 2
          },
          "yaxis": {
           "automargin": true,
           "gridcolor": "#283442",
           "linecolor": "#506784",
           "ticks": "",
           "title": {
            "standoff": 15
           },
           "zerolinecolor": "#283442",
           "zerolinewidth": 2
          }
         }
        },
        "title": {
         "text": "Circle"
        },
        "width": 700
       }
      }
     },
     "metadata": {},
     "output_type": "display_data"
    }
   ],
   "source": [
    "circle.show()"
   ]
  },
  {
   "cell_type": "code",
   "execution_count": 6,
   "metadata": {},
   "outputs": [
    {
     "data": {
      "text/html": "\n                <audio  controls=\"controls\" >\n                    <source src=\"data:audio/wav;base64,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\" type=\"audio/wav\" />\n                    Your browser does not support the audio element.\n                </audio>\n              ",
      "text/plain": "<IPython.lib.display.Audio object>"
     },
     "execution_count": 6,
     "metadata": {},
     "output_type": "execute_result"
    }
   ],
   "source": [
    "circle.play(duration=1.0)"
   ]
  }
 ]
}