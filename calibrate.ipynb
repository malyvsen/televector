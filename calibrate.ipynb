{
 "nbformat": 4,
 "nbformat_minor": 2,
 "metadata": {
  "language_info": {
   "name": "python",
   "codemirror_mode": {
    "name": "ipython",
    "version": 3
   },
   "version": "3.7.6-final"
  },
  "orig_nbformat": 2,
  "file_extension": ".py",
  "mimetype": "text/x-python",
  "name": "python",
  "npconvert_exporter": "python",
  "pygments_lexer": "ipython3",
  "version": 3,
  "kernelspec": {
   "name": "python37664bitaivenv162692f402a54c6289ea730fbff96ce0",
   "display_name": "Python 3.7.6 64-bit ('ai': venv)"
  }
 },
 "cells": [
  {
   "cell_type": "code",
   "execution_count": 1,
   "metadata": {},
   "outputs": [],
   "source": [
    "import numpy as np\n",
    "import plotly.graph_objects as go\n",
    "from IPython.display import Audio"
   ]
  },
  {
   "cell_type": "code",
   "execution_count": 2,
   "metadata": {},
   "outputs": [],
   "source": [
    "def lerp(a, b, t):\n",
    "    return a + (b - a) * t"
   ]
  },
  {
   "cell_type": "code",
   "execution_count": 3,
   "metadata": {},
   "outputs": [],
   "source": [
    "class Shape:\n",
    "    def __init__(self, refresh_rate=1000, carrier_rate=16000, amplification=[1., 1.], leak=0):\n",
    "        self.refresh_rate = refresh_rate\n",
    "        self.carrier_rate = carrier_rate\n",
    "        self.amplification = amplification\n",
    "        self.leak = leak\n",
    "    \n",
    "    def play(self, duration):\n",
    "        signal = self.signal(duration)\n",
    "        return Audio(signal, rate=self.carrier_rate)\n",
    "    \n",
    "    def show(self):\n",
    "        derivative = self.derivative(1/self.refresh_rate)\n",
    "        return go.Figure(layout={\n",
    "            'title': f'{type(self).__name__}',\n",
    "            'autosize': False,\n",
    "            'width': 700,\n",
    "            'height': 700,\n",
    "            'template': 'plotly_dark'\n",
    "        }).add_trace(go.Scatter(\n",
    "            x=derivative[0],\n",
    "            y=derivative[1]\n",
    "        ))\n",
    "    \n",
    "    def signal(self, duration):\n",
    "        derivative = self.derivative(duration)\n",
    "        signal = np.cumsum(derivative, axis=1)\n",
    "        return signal # TODO: could subtract rolling mean or high-pass to stop this from wandering too far from 0\n",
    "    \n",
    "    def derivative(self, duration):\n",
    "        sequence = np.linspace(\n",
    "            start=0,\n",
    "            stop=duration * self.refresh_rate,\n",
    "            num=int(duration * self.carrier_rate)\n",
    "        )\n",
    "        x = self.x(sequence)\n",
    "        y = self.y(sequence)\n",
    "        signal = np.stack((lerp(x, y, -self.leak), lerp(y, x, -self.leak)), axis=-1)\n",
    "        signal *= self.amplification\n",
    "        signal = np.moveaxis(signal, -1, 0)\n",
    "        return signal"
   ]
  },
  {
   "cell_type": "code",
   "execution_count": 4,
   "metadata": {},
   "outputs": [],
   "source": [
    "class Circle(Shape):\n",
    "    def x(self, sequence):\n",
    "        return np.sin(2. * np.pi * sequence)\n",
    "    \n",
    "    def y(self, sequence):\n",
    "        return np.cos(2. * np.pi * sequence)"
   ]
  },
  {
   "cell_type": "code",
   "execution_count": 5,
   "metadata": {},
   "outputs": [],
   "source": [
    "circle = Circle(amplification=[1, 4], leak=.1)"
   ]
  },
  {
   "cell_type": "code",
   "execution_count": 6,
   "metadata": {},
   "outputs": [
    {
     "data": {
      "application/vnd.plotly.v1+json": {
       "config": {
        "plotlyServerURL": "https://plot.ly"
       },
       "data": [
        {
         "type": "scatter",
         "x": [
          -0.1,
          0.35605576161912006,
          0.7505462473892477,
          1.0152604684871742,
          1.104426931231866,
          1.0026279441628825,
          0.7274654769592153,
          0.32651761997291584,
          -0.1308880998261544,
          -0.5656620780842255,
          -0.9026279441628822,
          -1.0835212385783353,
          -1.0770638673621638,
          -0.8843723686610193,
          -0.5387648531476403,
          -0.10000000000000028
         ],
         "y": [
          4.4,
          3.8569053563971236,
          2.6469167377880187,
          0.9792521687317073,
          -0.857733996524984,
          -2.5464101615137746,
          -3.7947888761667574,
          -4.3870141195558485,
          -4.220684766901641,
          -3.3245606743327802,
          -1.8535898384862266,
          -0.06211648023036925,
          1.7400973817678294,
          3.241432598169935,
          4.182294670857765,
          4.4
         ]
        }
       ],
       "layout": {
        "autosize": false,
        "height": 700,
        "template": {
         "data": {
          "bar": [
           {
            "error_x": {
             "color": "#f2f5fa"
            },
            "error_y": {
             "color": "#f2f5fa"
            },
            "marker": {
             "line": {
              "color": "rgb(17,17,17)",
              "width": 0.5
             }
            },
            "type": "bar"
           }
          ],
          "barpolar": [
           {
            "marker": {
             "line": {
              "color": "rgb(17,17,17)",
              "width": 0.5
             }
            },
            "type": "barpolar"
           }
          ],
          "carpet": [
           {
            "aaxis": {
             "endlinecolor": "#A2B1C6",
             "gridcolor": "#506784",
             "linecolor": "#506784",
             "minorgridcolor": "#506784",
             "startlinecolor": "#A2B1C6"
            },
            "baxis": {
             "endlinecolor": "#A2B1C6",
             "gridcolor": "#506784",
             "linecolor": "#506784",
             "minorgridcolor": "#506784",
             "startlinecolor": "#A2B1C6"
            },
            "type": "carpet"
           }
          ],
          "choropleth": [
           {
            "colorbar": {
             "outlinewidth": 0,
             "ticks": ""
            },
            "type": "choropleth"
           }
          ],
          "contour": [
           {
            "colorbar": {
             "outlinewidth": 0,
             "ticks": ""
            },
            "colorscale": [
             [
              0,
              "#0d0887"
             ],
             [
              0.1111111111111111,
              "#46039f"
             ],
             [
              0.2222222222222222,
              "#7201a8"
             ],
             [
              0.3333333333333333,
              "#9c179e"
             ],
             [
              0.4444444444444444,
              "#bd3786"
             ],
             [
              0.5555555555555556,
              "#d8576b"
             ],
             [
              0.6666666666666666,
              "#ed7953"
             ],
             [
              0.7777777777777778,
              "#fb9f3a"
             ],
             [
              0.8888888888888888,
              "#fdca26"
             ],
             [
              1,
              "#f0f921"
             ]
            ],
            "type": "contour"
           }
          ],
          "contourcarpet": [
           {
            "colorbar": {
             "outlinewidth": 0,
             "ticks": ""
            },
            "type": "contourcarpet"
           }
          ],
          "heatmap": [
           {
            "colorbar": {
             "outlinewidth": 0,
             "ticks": ""
            },
            "colorscale": [
             [
              0,
              "#0d0887"
             ],
             [
              0.1111111111111111,
              "#46039f"
             ],
             [
              0.2222222222222222,
              "#7201a8"
             ],
             [
              0.3333333333333333,
              "#9c179e"
             ],
             [
              0.4444444444444444,
              "#bd3786"
             ],
             [
              0.5555555555555556,
              "#d8576b"
             ],
             [
              0.6666666666666666,
              "#ed7953"
             ],
             [
              0.7777777777777778,
              "#fb9f3a"
             ],
             [
              0.8888888888888888,
              "#fdca26"
             ],
             [
              1,
              "#f0f921"
             ]
            ],
            "type": "heatmap"
           }
          ],
          "heatmapgl": [
           {
            "colorbar": {
             "outlinewidth": 0,
             "ticks": ""
            },
            "colorscale": [
             [
              0,
              "#0d0887"
             ],
             [
              0.1111111111111111,
              "#46039f"
             ],
             [
              0.2222222222222222,
              "#7201a8"
             ],
             [
              0.3333333333333333,
              "#9c179e"
             ],
             [
              0.4444444444444444,
              "#bd3786"
             ],
             [
              0.5555555555555556,
              "#d8576b"
             ],
             [
              0.6666666666666666,
              "#ed7953"
             ],
             [
              0.7777777777777778,
              "#fb9f3a"
             ],
             [
              0.8888888888888888,
              "#fdca26"
             ],
             [
              1,
              "#f0f921"
             ]
            ],
            "type": "heatmapgl"
           }
          ],
          "histogram": [
           {
            "marker": {
             "colorbar": {
              "outlinewidth": 0,
              "ticks": ""
             }
            },
            "type": "histogram"
           }
          ],
          "histogram2d": [
           {
            "colorbar": {
             "outlinewidth": 0,
             "ticks": ""
            },
            "colorscale": [
             [
              0,
              "#0d0887"
             ],
             [
              0.1111111111111111,
              "#46039f"
             ],
             [
              0.2222222222222222,
              "#7201a8"
             ],
             [
              0.3333333333333333,
              "#9c179e"
             ],
             [
              0.4444444444444444,
              "#bd3786"
             ],
             [
              0.5555555555555556,
              "#d8576b"
             ],
             [
              0.6666666666666666,
              "#ed7953"
             ],
             [
              0.7777777777777778,
              "#fb9f3a"
             ],
             [
              0.8888888888888888,
              "#fdca26"
             ],
             [
              1,
              "#f0f921"
             ]
            ],
            "type": "histogram2d"
           }
          ],
          "histogram2dcontour": [
           {
            "colorbar": {
             "outlinewidth": 0,
             "ticks": ""
            },
            "colorscale": [
             [
              0,
              "#0d0887"
             ],
             [
              0.1111111111111111,
              "#46039f"
             ],
             [
              0.2222222222222222,
              "#7201a8"
             ],
             [
              0.3333333333333333,
              "#9c179e"
             ],
             [
              0.4444444444444444,
              "#bd3786"
             ],
             [
              0.5555555555555556,
              "#d8576b"
             ],
             [
              0.6666666666666666,
              "#ed7953"
             ],
             [
              0.7777777777777778,
              "#fb9f3a"
             ],
             [
              0.8888888888888888,
              "#fdca26"
             ],
             [
              1,
              "#f0f921"
             ]
            ],
            "type": "histogram2dcontour"
           }
          ],
          "mesh3d": [
           {
            "colorbar": {
             "outlinewidth": 0,
             "ticks": ""
            },
            "type": "mesh3d"
           }
          ],
          "parcoords": [
           {
            "line": {
             "colorbar": {
              "outlinewidth": 0,
              "ticks": ""
             }
            },
            "type": "parcoords"
           }
          ],
          "pie": [
           {
            "automargin": true,
            "type": "pie"
           }
          ],
          "scatter": [
           {
            "marker": {
             "line": {
              "color": "#283442"
             }
            },
            "type": "scatter"
           }
          ],
          "scatter3d": [
           {
            "line": {
             "colorbar": {
              "outlinewidth": 0,
              "ticks": ""
             }
            },
            "marker": {
             "colorbar": {
              "outlinewidth": 0,
              "ticks": ""
             }
            },
            "type": "scatter3d"
           }
          ],
          "scattercarpet": [
           {
            "marker": {
             "colorbar": {
              "outlinewidth": 0,
              "ticks": ""
             }
            },
            "type": "scattercarpet"
           }
          ],
          "scattergeo": [
           {
            "marker": {
             "colorbar": {
              "outlinewidth": 0,
              "ticks": ""
             }
            },
            "type": "scattergeo"
           }
          ],
          "scattergl": [
           {
            "marker": {
             "line": {
              "color": "#283442"
             }
            },
            "type": "scattergl"
           }
          ],
          "scattermapbox": [
           {
            "marker": {
             "colorbar": {
              "outlinewidth": 0,
              "ticks": ""
             }
            },
            "type": "scattermapbox"
           }
          ],
          "scatterpolar": [
           {
            "marker": {
             "colorbar": {
              "outlinewidth": 0,
              "ticks": ""
             }
            },
            "type": "scatterpolar"
           }
          ],
          "scatterpolargl": [
           {
            "marker": {
             "colorbar": {
              "outlinewidth": 0,
              "ticks": ""
             }
            },
            "type": "scatterpolargl"
           }
          ],
          "scatterternary": [
           {
            "marker": {
             "colorbar": {
              "outlinewidth": 0,
              "ticks": ""
             }
            },
            "type": "scatterternary"
           }
          ],
          "surface": [
           {
            "colorbar": {
             "outlinewidth": 0,
             "ticks": ""
            },
            "colorscale": [
             [
              0,
              "#0d0887"
             ],
             [
              0.1111111111111111,
              "#46039f"
             ],
             [
              0.2222222222222222,
              "#7201a8"
             ],
             [
              0.3333333333333333,
              "#9c179e"
             ],
             [
              0.4444444444444444,
              "#bd3786"
             ],
             [
              0.5555555555555556,
              "#d8576b"
             ],
             [
              0.6666666666666666,
              "#ed7953"
             ],
             [
              0.7777777777777778,
              "#fb9f3a"
             ],
             [
              0.8888888888888888,
              "#fdca26"
             ],
             [
              1,
              "#f0f921"
             ]
            ],
            "type": "surface"
           }
          ],
          "table": [
           {
            "cells": {
             "fill": {
              "color": "#506784"
             },
             "line": {
              "color": "rgb(17,17,17)"
             }
            },
            "header": {
             "fill": {
              "color": "#2a3f5f"
             },
             "line": {
              "color": "rgb(17,17,17)"
             }
            },
            "type": "table"
           }
          ]
         },
         "layout": {
          "annotationdefaults": {
           "arrowcolor": "#f2f5fa",
           "arrowhead": 0,
           "arrowwidth": 1
          },
          "coloraxis": {
           "colorbar": {
            "outlinewidth": 0,
            "ticks": ""
           }
          },
          "colorscale": {
           "diverging": [
            [
             0,
             "#8e0152"
            ],
            [
             0.1,
             "#c51b7d"
            ],
            [
             0.2,
             "#de77ae"
            ],
            [
             0.3,
             "#f1b6da"
            ],
            [
             0.4,
             "#fde0ef"
            ],
            [
             0.5,
             "#f7f7f7"
            ],
            [
             0.6,
             "#e6f5d0"
            ],
            [
             0.7,
             "#b8e186"
            ],
            [
             0.8,
             "#7fbc41"
            ],
            [
             0.9,
             "#4d9221"
            ],
            [
             1,
             "#276419"
            ]
           ],
           "sequential": [
            [
             0,
             "#0d0887"
            ],
            [
             0.1111111111111111,
             "#46039f"
            ],
            [
             0.2222222222222222,
             "#7201a8"
            ],
            [
             0.3333333333333333,
             "#9c179e"
            ],
            [
             0.4444444444444444,
             "#bd3786"
            ],
            [
             0.5555555555555556,
             "#d8576b"
            ],
            [
             0.6666666666666666,
             "#ed7953"
            ],
            [
             0.7777777777777778,
             "#fb9f3a"
            ],
            [
             0.8888888888888888,
             "#fdca26"
            ],
            [
             1,
             "#f0f921"
            ]
           ],
           "sequentialminus": [
            [
             0,
             "#0d0887"
            ],
            [
             0.1111111111111111,
             "#46039f"
            ],
            [
             0.2222222222222222,
             "#7201a8"
            ],
            [
             0.3333333333333333,
             "#9c179e"
            ],
            [
             0.4444444444444444,
             "#bd3786"
            ],
            [
             0.5555555555555556,
             "#d8576b"
            ],
            [
             0.6666666666666666,
             "#ed7953"
            ],
            [
             0.7777777777777778,
             "#fb9f3a"
            ],
            [
             0.8888888888888888,
             "#fdca26"
            ],
            [
             1,
             "#f0f921"
            ]
           ]
          },
          "colorway": [
           "#636efa",
           "#EF553B",
           "#00cc96",
           "#ab63fa",
           "#FFA15A",
           "#19d3f3",
           "#FF6692",
           "#B6E880",
           "#FF97FF",
           "#FECB52"
          ],
          "font": {
           "color": "#f2f5fa"
          },
          "geo": {
           "bgcolor": "rgb(17,17,17)",
           "lakecolor": "rgb(17,17,17)",
           "landcolor": "rgb(17,17,17)",
           "showlakes": true,
           "showland": true,
           "subunitcolor": "#506784"
          },
          "hoverlabel": {
           "align": "left"
          },
          "hovermode": "closest",
          "mapbox": {
           "style": "dark"
          },
          "paper_bgcolor": "rgb(17,17,17)",
          "plot_bgcolor": "rgb(17,17,17)",
          "polar": {
           "angularaxis": {
            "gridcolor": "#506784",
            "linecolor": "#506784",
            "ticks": ""
           },
           "bgcolor": "rgb(17,17,17)",
           "radialaxis": {
            "gridcolor": "#506784",
            "linecolor": "#506784",
            "ticks": ""
           }
          },
          "scene": {
           "xaxis": {
            "backgroundcolor": "rgb(17,17,17)",
            "gridcolor": "#506784",
            "gridwidth": 2,
            "linecolor": "#506784",
            "showbackground": true,
            "ticks": "",
            "zerolinecolor": "#C8D4E3"
           },
           "yaxis": {
            "backgroundcolor": "rgb(17,17,17)",
            "gridcolor": "#506784",
            "gridwidth": 2,
            "linecolor": "#506784",
            "showbackground": true,
            "ticks": "",
            "zerolinecolor": "#C8D4E3"
           },
           "zaxis": {
            "backgroundcolor": "rgb(17,17,17)",
            "gridcolor": "#506784",
            "gridwidth": 2,
            "linecolor": "#506784",
            "showbackground": true,
            "ticks": "",
            "zerolinecolor": "#C8D4E3"
           }
          },
          "shapedefaults": {
           "line": {
            "color": "#f2f5fa"
           }
          },
          "sliderdefaults": {
           "bgcolor": "#C8D4E3",
           "bordercolor": "rgb(17,17,17)",
           "borderwidth": 1,
           "tickwidth": 0
          },
          "ternary": {
           "aaxis": {
            "gridcolor": "#506784",
            "linecolor": "#506784",
            "ticks": ""
           },
           "baxis": {
            "gridcolor": "#506784",
            "linecolor": "#506784",
            "ticks": ""
           },
           "bgcolor": "rgb(17,17,17)",
           "caxis": {
            "gridcolor": "#506784",
            "linecolor": "#506784",
            "ticks": ""
           }
          },
          "title": {
           "x": 0.05
          },
          "updatemenudefaults": {
           "bgcolor": "#506784",
           "borderwidth": 0
          },
          "xaxis": {
           "automargin": true,
           "gridcolor": "#283442",
           "linecolor": "#506784",
           "ticks": "",
           "title": {
            "standoff": 15
           },
           "zerolinecolor": "#283442",
           "zerolinewidth": 2
          },
          "yaxis": {
           "automargin": true,
           "gridcolor": "#283442",
           "linecolor": "#506784",
           "ticks": "",
           "title": {
            "standoff": 15
           },
           "zerolinecolor": "#283442",
           "zerolinewidth": 2
          }
         }
        },
        "title": {
         "text": "Circle"
        },
        "width": 700
       }
      }
     },
     "metadata": {},
     "output_type": "display_data"
    }
   ],
   "source": [
    "circle.show()"
   ]
  },
  {
   "cell_type": "code",
   "execution_count": 7,
   "metadata": {},
   "outputs": [
    {
     "data": {
      "text/html": "\n                <audio  controls=\"controls\" >\n                    <source src=\"data:audio/wav;base64,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\" type=\"audio/wav\" />\n                    Your browser does not support the audio element.\n                </audio>\n              ",
      "text/plain": "<IPython.lib.display.Audio object>"
     },
     "execution_count": 7,
     "metadata": {},
     "output_type": "execute_result"
    }
   ],
   "source": [
    "circle.play(duration=1.0)"
   ]
  }
 ]
}