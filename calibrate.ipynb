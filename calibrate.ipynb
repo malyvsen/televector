{
 "nbformat": 4,
 "nbformat_minor": 2,
 "metadata": {
  "language_info": {
   "name": "python",
   "codemirror_mode": {
    "name": "ipython",
    "version": 3
   },
   "version": "3.7.6-final"
  },
  "orig_nbformat": 2,
  "file_extension": ".py",
  "mimetype": "text/x-python",
  "name": "python",
  "npconvert_exporter": "python",
  "pygments_lexer": "ipython3",
  "version": 3,
  "kernelspec": {
   "name": "python37664bitaivenv162692f402a54c6289ea730fbff96ce0",
   "display_name": "Python 3.7.6 64-bit ('ai': venv)"
  }
 },
 "cells": [
  {
   "cell_type": "code",
   "execution_count": 1,
   "metadata": {},
   "outputs": [],
   "source": [
    "import numpy as np\n",
    "import plotly.graph_objects as go\n",
    "from IPython.display import Audio, display"
   ]
  },
  {
   "cell_type": "code",
   "execution_count": 2,
   "metadata": {},
   "outputs": [],
   "source": [
    "class Shape:\n",
    "    def __init__(self, refresh_rate=1000, carrier_rate=16000, amplification=[1., 1.]):\n",
    "        self.refresh_rate = refresh_rate\n",
    "        self.carrier_rate = carrier_rate\n",
    "        self.amplification = amplification\n",
    "    \n",
    "    def play(self, duration):\n",
    "        signal = self.signal(duration)\n",
    "        display(Audio(signal, rate=self.carrier_rate))\n",
    "    \n",
    "    def show(self):\n",
    "        signal = self.signal(1/self.refresh_rate)\n",
    "        return go.Figure(layout={\n",
    "            'title': f'{type(self).__name__}',\n",
    "            'autosize': False,\n",
    "            'width': 700,\n",
    "            'height': 700,\n",
    "            'template': 'plotly_dark'\n",
    "        }).add_trace(go.Scatter(\n",
    "            x=signal[0],\n",
    "            y=signal[1]\n",
    "        ))\n",
    "    \n",
    "    def signal(self, duration):\n",
    "        sequence = np.linspace(\n",
    "            start=0,\n",
    "            stop=duration * self.refresh_rate,\n",
    "            num=int(duration * self.carrier_rate)\n",
    "        )\n",
    "        signal = np.stack((self.x(sequence), self.y(sequence)), axis=-1)\n",
    "        signal *= self.amplification\n",
    "        signal = np.moveaxis(signal, -1, 0)\n",
    "        return signal"
   ]
  },
  {
   "cell_type": "code",
   "execution_count": 3,
   "metadata": {},
   "outputs": [],
   "source": [
    "class Circle(Shape):\n",
    "    def x(self, sequence):\n",
    "        return np.sin(2. * np.pi * sequence)\n",
    "    \n",
    "    def y(self, sequence):\n",
    "        return np.cos(2. * np.pi * sequence)"
   ]
  },
  {
   "cell_type": "code",
   "execution_count": 4,
   "metadata": {},
   "outputs": [],
   "source": [
    "circle = Circle(amplification=[5, 1])"
   ]
  },
  {
   "cell_type": "code",
   "execution_count": 5,
   "metadata": {},
   "outputs": [
    {
     "data": {
      "application/vnd.plotly.v1+json": {
       "config": {
        "plotlyServerURL": "https://plot.ly"
       },
       "data": [
        {
         "type": "scatter",
         "x": [
          0,
          2.0336832153790008,
          3.7157241273869706,
          4.755282581475767,
          4.972609476841367,
          4.330127018922194,
          2.9389262614623664,
          1.0395584540887965,
          -1.0395584540887954,
          -2.938926261462365,
          -4.330127018922192,
          -4.972609476841367,
          -4.755282581475768,
          -3.71572412738697,
          -2.0336832153790008,
          -1.2246467991473533e-15
         ],
         "y": [
          1,
          0.9135454576426009,
          0.6691306063588582,
          0.30901699437494745,
          -0.10452846326765333,
          -0.4999999999999998,
          -0.8090169943749473,
          -0.9781476007338057,
          -0.9781476007338057,
          -0.8090169943749476,
          -0.5000000000000004,
          -0.10452846326765423,
          0.30901699437494723,
          0.6691306063588585,
          0.913545457642601,
          1
         ]
        }
       ],
       "layout": {
        "autosize": false,
        "height": 700,
        "template": {
         "data": {
          "bar": [
           {
            "error_x": {
             "color": "#f2f5fa"
            },
            "error_y": {
             "color": "#f2f5fa"
            },
            "marker": {
             "line": {
              "color": "rgb(17,17,17)",
              "width": 0.5
             }
            },
            "type": "bar"
           }
          ],
          "barpolar": [
           {
            "marker": {
             "line": {
              "color": "rgb(17,17,17)",
              "width": 0.5
             }
            },
            "type": "barpolar"
           }
          ],
          "carpet": [
           {
            "aaxis": {
             "endlinecolor": "#A2B1C6",
             "gridcolor": "#506784",
             "linecolor": "#506784",
             "minorgridcolor": "#506784",
             "startlinecolor": "#A2B1C6"
            },
            "baxis": {
             "endlinecolor": "#A2B1C6",
             "gridcolor": "#506784",
             "linecolor": "#506784",
             "minorgridcolor": "#506784",
             "startlinecolor": "#A2B1C6"
            },
            "type": "carpet"
           }
          ],
          "choropleth": [
           {
            "colorbar": {
             "outlinewidth": 0,
             "ticks": ""
            },
            "type": "choropleth"
           }
          ],
          "contour": [
           {
            "colorbar": {
             "outlinewidth": 0,
             "ticks": ""
            },
            "colorscale": [
             [
              0,
              "#0d0887"
             ],
             [
              0.1111111111111111,
              "#46039f"
             ],
             [
              0.2222222222222222,
              "#7201a8"
             ],
             [
              0.3333333333333333,
              "#9c179e"
             ],
             [
              0.4444444444444444,
              "#bd3786"
             ],
             [
              0.5555555555555556,
              "#d8576b"
             ],
             [
              0.6666666666666666,
              "#ed7953"
             ],
             [
              0.7777777777777778,
              "#fb9f3a"
             ],
             [
              0.8888888888888888,
              "#fdca26"
             ],
             [
              1,
              "#f0f921"
             ]
            ],
            "type": "contour"
           }
          ],
          "contourcarpet": [
           {
            "colorbar": {
             "outlinewidth": 0,
             "ticks": ""
            },
            "type": "contourcarpet"
           }
          ],
          "heatmap": [
           {
            "colorbar": {
             "outlinewidth": 0,
             "ticks": ""
            },
            "colorscale": [
             [
              0,
              "#0d0887"
             ],
             [
              0.1111111111111111,
              "#46039f"
             ],
             [
              0.2222222222222222,
              "#7201a8"
             ],
             [
              0.3333333333333333,
              "#9c179e"
             ],
             [
              0.4444444444444444,
              "#bd3786"
             ],
             [
              0.5555555555555556,
              "#d8576b"
             ],
             [
              0.6666666666666666,
              "#ed7953"
             ],
             [
              0.7777777777777778,
              "#fb9f3a"
             ],
             [
              0.8888888888888888,
              "#fdca26"
             ],
             [
              1,
              "#f0f921"
             ]
            ],
            "type": "heatmap"
           }
          ],
          "heatmapgl": [
           {
            "colorbar": {
             "outlinewidth": 0,
             "ticks": ""
            },
            "colorscale": [
             [
              0,
              "#0d0887"
             ],
             [
              0.1111111111111111,
              "#46039f"
             ],
             [
              0.2222222222222222,
              "#7201a8"
             ],
             [
              0.3333333333333333,
              "#9c179e"
             ],
             [
              0.4444444444444444,
              "#bd3786"
             ],
             [
              0.5555555555555556,
              "#d8576b"
             ],
             [
              0.6666666666666666,
              "#ed7953"
             ],
             [
              0.7777777777777778,
              "#fb9f3a"
             ],
             [
              0.8888888888888888,
              "#fdca26"
             ],
             [
              1,
              "#f0f921"
             ]
            ],
            "type": "heatmapgl"
           }
          ],
          "histogram": [
           {
            "marker": {
             "colorbar": {
              "outlinewidth": 0,
              "ticks": ""
             }
            },
            "type": "histogram"
           }
          ],
          "histogram2d": [
           {
            "colorbar": {
             "outlinewidth": 0,
             "ticks": ""
            },
            "colorscale": [
             [
              0,
              "#0d0887"
             ],
             [
              0.1111111111111111,
              "#46039f"
             ],
             [
              0.2222222222222222,
              "#7201a8"
             ],
             [
              0.3333333333333333,
              "#9c179e"
             ],
             [
              0.4444444444444444,
              "#bd3786"
             ],
             [
              0.5555555555555556,
              "#d8576b"
             ],
             [
              0.6666666666666666,
              "#ed7953"
             ],
             [
              0.7777777777777778,
              "#fb9f3a"
             ],
             [
              0.8888888888888888,
              "#fdca26"
             ],
             [
              1,
              "#f0f921"
             ]
            ],
            "type": "histogram2d"
           }
          ],
          "histogram2dcontour": [
           {
            "colorbar": {
             "outlinewidth": 0,
             "ticks": ""
            },
            "colorscale": [
             [
              0,
              "#0d0887"
             ],
             [
              0.1111111111111111,
              "#46039f"
             ],
             [
              0.2222222222222222,
              "#7201a8"
             ],
             [
              0.3333333333333333,
              "#9c179e"
             ],
             [
              0.4444444444444444,
              "#bd3786"
             ],
             [
              0.5555555555555556,
              "#d8576b"
             ],
             [
              0.6666666666666666,
              "#ed7953"
             ],
             [
              0.7777777777777778,
              "#fb9f3a"
             ],
             [
              0.8888888888888888,
              "#fdca26"
             ],
             [
              1,
              "#f0f921"
             ]
            ],
            "type": "histogram2dcontour"
           }
          ],
          "mesh3d": [
           {
            "colorbar": {
             "outlinewidth": 0,
             "ticks": ""
            },
            "type": "mesh3d"
           }
          ],
          "parcoords": [
           {
            "line": {
             "colorbar": {
              "outlinewidth": 0,
              "ticks": ""
             }
            },
            "type": "parcoords"
           }
          ],
          "pie": [
           {
            "automargin": true,
            "type": "pie"
           }
          ],
          "scatter": [
           {
            "marker": {
             "line": {
              "color": "#283442"
             }
            },
            "type": "scatter"
           }
          ],
          "scatter3d": [
           {
            "line": {
             "colorbar": {
              "outlinewidth": 0,
              "ticks": ""
             }
            },
            "marker": {
             "colorbar": {
              "outlinewidth": 0,
              "ticks": ""
             }
            },
            "type": "scatter3d"
           }
          ],
          "scattercarpet": [
           {
            "marker": {
             "colorbar": {
              "outlinewidth": 0,
              "ticks": ""
             }
            },
            "type": "scattercarpet"
           }
          ],
          "scattergeo": [
           {
            "marker": {
             "colorbar": {
              "outlinewidth": 0,
              "ticks": ""
             }
            },
            "type": "scattergeo"
           }
          ],
          "scattergl": [
           {
            "marker": {
             "line": {
              "color": "#283442"
             }
            },
            "type": "scattergl"
           }
          ],
          "scattermapbox": [
           {
            "marker": {
             "colorbar": {
              "outlinewidth": 0,
              "ticks": ""
             }
            },
            "type": "scattermapbox"
           }
          ],
          "scatterpolar": [
           {
            "marker": {
             "colorbar": {
              "outlinewidth": 0,
              "ticks": ""
             }
            },
            "type": "scatterpolar"
           }
          ],
          "scatterpolargl": [
           {
            "marker": {
             "colorbar": {
              "outlinewidth": 0,
              "ticks": ""
             }
            },
            "type": "scatterpolargl"
           }
          ],
          "scatterternary": [
           {
            "marker": {
             "colorbar": {
              "outlinewidth": 0,
              "ticks": ""
             }
            },
            "type": "scatterternary"
           }
          ],
          "surface": [
           {
            "colorbar": {
             "outlinewidth": 0,
             "ticks": ""
            },
            "colorscale": [
             [
              0,
              "#0d0887"
             ],
             [
              0.1111111111111111,
              "#46039f"
             ],
             [
              0.2222222222222222,
              "#7201a8"
             ],
             [
              0.3333333333333333,
              "#9c179e"
             ],
             [
              0.4444444444444444,
              "#bd3786"
             ],
             [
              0.5555555555555556,
              "#d8576b"
             ],
             [
              0.6666666666666666,
              "#ed7953"
             ],
             [
              0.7777777777777778,
              "#fb9f3a"
             ],
             [
              0.8888888888888888,
              "#fdca26"
             ],
             [
              1,
              "#f0f921"
             ]
            ],
            "type": "surface"
           }
          ],
          "table": [
           {
            "cells": {
             "fill": {
              "color": "#506784"
             },
             "line": {
              "color": "rgb(17,17,17)"
             }
            },
            "header": {
             "fill": {
              "color": "#2a3f5f"
             },
             "line": {
              "color": "rgb(17,17,17)"
             }
            },
            "type": "table"
           }
          ]
         },
         "layout": {
          "annotationdefaults": {
           "arrowcolor": "#f2f5fa",
           "arrowhead": 0,
           "arrowwidth": 1
          },
          "coloraxis": {
           "colorbar": {
            "outlinewidth": 0,
            "ticks": ""
           }
          },
          "colorscale": {
           "diverging": [
            [
             0,
             "#8e0152"
            ],
            [
             0.1,
             "#c51b7d"
            ],
            [
             0.2,
             "#de77ae"
            ],
            [
             0.3,
             "#f1b6da"
            ],
            [
             0.4,
             "#fde0ef"
            ],
            [
             0.5,
             "#f7f7f7"
            ],
            [
             0.6,
             "#e6f5d0"
            ],
            [
             0.7,
             "#b8e186"
            ],
            [
             0.8,
             "#7fbc41"
            ],
            [
             0.9,
             "#4d9221"
            ],
            [
             1,
             "#276419"
            ]
           ],
           "sequential": [
            [
             0,
             "#0d0887"
            ],
            [
             0.1111111111111111,
             "#46039f"
            ],
            [
             0.2222222222222222,
             "#7201a8"
            ],
            [
             0.3333333333333333,
             "#9c179e"
            ],
            [
             0.4444444444444444,
             "#bd3786"
            ],
            [
             0.5555555555555556,
             "#d8576b"
            ],
            [
             0.6666666666666666,
             "#ed7953"
            ],
            [
             0.7777777777777778,
             "#fb9f3a"
            ],
            [
             0.8888888888888888,
             "#fdca26"
            ],
            [
             1,
             "#f0f921"
            ]
           ],
           "sequentialminus": [
            [
             0,
             "#0d0887"
            ],
            [
             0.1111111111111111,
             "#46039f"
            ],
            [
             0.2222222222222222,
             "#7201a8"
            ],
            [
             0.3333333333333333,
             "#9c179e"
            ],
            [
             0.4444444444444444,
             "#bd3786"
            ],
            [
             0.5555555555555556,
             "#d8576b"
            ],
            [
             0.6666666666666666,
             "#ed7953"
            ],
            [
             0.7777777777777778,
             "#fb9f3a"
            ],
            [
             0.8888888888888888,
             "#fdca26"
            ],
            [
             1,
             "#f0f921"
            ]
           ]
          },
          "colorway": [
           "#636efa",
           "#EF553B",
           "#00cc96",
           "#ab63fa",
           "#FFA15A",
           "#19d3f3",
           "#FF6692",
           "#B6E880",
           "#FF97FF",
           "#FECB52"
          ],
          "font": {
           "color": "#f2f5fa"
          },
          "geo": {
           "bgcolor": "rgb(17,17,17)",
           "lakecolor": "rgb(17,17,17)",
           "landcolor": "rgb(17,17,17)",
           "showlakes": true,
           "showland": true,
           "subunitcolor": "#506784"
          },
          "hoverlabel": {
           "align": "left"
          },
          "hovermode": "closest",
          "mapbox": {
           "style": "dark"
          },
          "paper_bgcolor": "rgb(17,17,17)",
          "plot_bgcolor": "rgb(17,17,17)",
          "polar": {
           "angularaxis": {
            "gridcolor": "#506784",
            "linecolor": "#506784",
            "ticks": ""
           },
           "bgcolor": "rgb(17,17,17)",
           "radialaxis": {
            "gridcolor": "#506784",
            "linecolor": "#506784",
            "ticks": ""
           }
          },
          "scene": {
           "xaxis": {
            "backgroundcolor": "rgb(17,17,17)",
            "gridcolor": "#506784",
            "gridwidth": 2,
            "linecolor": "#506784",
            "showbackground": true,
            "ticks": "",
            "zerolinecolor": "#C8D4E3"
           },
           "yaxis": {
            "backgroundcolor": "rgb(17,17,17)",
            "gridcolor": "#506784",
            "gridwidth": 2,
            "linecolor": "#506784",
            "showbackground": true,
            "ticks": "",
            "zerolinecolor": "#C8D4E3"
           },
           "zaxis": {
            "backgroundcolor": "rgb(17,17,17)",
            "gridcolor": "#506784",
            "gridwidth": 2,
            "linecolor": "#506784",
            "showbackground": true,
            "ticks": "",
            "zerolinecolor": "#C8D4E3"
           }
          },
          "shapedefaults": {
           "line": {
            "color": "#f2f5fa"
           }
          },
          "sliderdefaults": {
           "bgcolor": "#C8D4E3",
           "bordercolor": "rgb(17,17,17)",
           "borderwidth": 1,
           "tickwidth": 0
          },
          "ternary": {
           "aaxis": {
            "gridcolor": "#506784",
            "linecolor": "#506784",
            "ticks": ""
           },
           "baxis": {
            "gridcolor": "#506784",
            "linecolor": "#506784",
            "ticks": ""
           },
           "bgcolor": "rgb(17,17,17)",
           "caxis": {
            "gridcolor": "#506784",
            "linecolor": "#506784",
            "ticks": ""
           }
          },
          "title": {
           "x": 0.05
          },
          "updatemenudefaults": {
           "bgcolor": "#506784",
           "borderwidth": 0
          },
          "xaxis": {
           "automargin": true,
           "gridcolor": "#283442",
           "linecolor": "#506784",
           "ticks": "",
           "title": {
            "standoff": 15
           },
           "zerolinecolor": "#283442",
           "zerolinewidth": 2
          },
          "yaxis": {
           "automargin": true,
           "gridcolor": "#283442",
           "linecolor": "#506784",
           "ticks": "",
           "title": {
            "standoff": 15
           },
           "zerolinecolor": "#283442",
           "zerolinewidth": 2
          }
         }
        },
        "title": {
         "text": "Circle"
        },
        "width": 700
       }
      }
     },
     "metadata": {},
     "output_type": "display_data"
    }
   ],
   "source": [
    "circle.show()"
   ]
  },
  {
   "cell_type": "code",
   "execution_count": 6,
   "metadata": {},
   "outputs": [
    {
     "data": {
      "text/html": "\n                <audio  controls=\"controls\" >\n                    <source src=\"data:audio/wav;base64,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\" type=\"audio/wav\" />\n                    Your browser does not support the audio element.\n                </audio>\n              ",
      "text/plain": "<IPython.lib.display.Audio object>"
     },
     "metadata": {},
     "output_type": "display_data"
    }
   ],
   "source": [
    "circle.play(duration=1.0)"
   ]
  }
 ]
}