{
 "nbformat": 4,
 "nbformat_minor": 2,
 "metadata": {
  "language_info": {
   "name": "python",
   "codemirror_mode": {
    "name": "ipython",
    "version": 3
   },
   "version": "3.7.6-final"
  },
  "orig_nbformat": 2,
  "file_extension": ".py",
  "mimetype": "text/x-python",
  "name": "python",
  "npconvert_exporter": "python",
  "pygments_lexer": "ipython3",
  "version": 3,
  "kernelspec": {
   "name": "python37664bitaivenv162692f402a54c6289ea730fbff96ce0",
   "display_name": "Python 3.7.6 64-bit ('ai': venv)"
  }
 },
 "cells": [
  {
   "cell_type": "code",
   "execution_count": 1,
   "metadata": {},
   "outputs": [],
   "source": [
    "import televector"
   ]
  },
  {
   "cell_type": "code",
   "execution_count": 2,
   "metadata": {},
   "outputs": [
    {
     "output_type": "display_data",
     "data": {
      "application/vnd.plotly.v1+json": {
       "config": {
        "plotlyServerURL": "https://plot.ly"
       },
       "data": [
        {
         "type": "scatter",
         "x": [
          1,
          0.9975153876827008,
          0.9900862439242719,
          0.9777864028930703,
          0.9607381059352038,
          0.9391107866851143,
          0.9131193871579975,
          0.883022221559489,
          0.8491184090430364,
          0.8117449009293668,
          0.7712731319328797,
          0.7281053286765815,
          0.6826705121831975,
          0.6354202340715026,
          0.5868240888334652,
          0.5373650467932121,
          0.48753465413096353,
          0.43782814767625744,
          0.38873953302184283,
          0.34075667487415773,
          0.2943564484346942,
          0.2499999999999999,
          0.20812816388260502,
          0.16915708120157025,
          0.13347406408508683,
          0.10143374638853875,
          0.0733545591839222,
          0.04951556604879048,
          0.030153689607045786,
          0.01546135688546102,
          0.0055845868874357385,
          0.0006215393905388278,
          0.0006215393905388278,
          0.0055845868874357385,
          0.01546135688546102,
          0.030153689607045786,
          0.04951556604879043,
          0.07335455918392225,
          0.1014337463885388,
          0.13347406408508689,
          0.1691570812015703,
          0.20812816388260508,
          0.2500000000000002,
          0.2943564484346942,
          0.34075667487415795,
          0.3887395330218427,
          0.43782814767625755,
          0.4875346541309634,
          0.5373650467932122,
          0.5868240888334654,
          0.6354202340715025,
          0.6826705121831977,
          0.7281053286765814,
          0.7712731319328798,
          0.8117449009293667,
          0.8491184090430365,
          0.8830222215594892,
          0.9131193871579975,
          0.9391107866851144,
          0.9607381059352038,
          0.9777864028930704,
          0.9900862439242719,
          0.9975153876827008,
          1
         ],
         "y": [
          0,
          0.04978392329790833,
          0.09907307159969879,
          0.1473775872054521,
          0.19421739813734737,
          0.23912698931065912,
          0.28166002903181103,
          0.3213938048432697,
          0.3579334246298592,
          0.3909157412340149,
          0.4200129615753857,
          0.44493590440573433,
          0.4654368743221021,
          0.481312123475006,
          0.49240387650610407,
          0.49860189859059006,
          0.4998445910004081,
          0.49611960330008603,
          0.4874639560909118,
          0.47396367308356585,
          0.45575292615583657,
          0.43301270189221924,
          0.4059690028579282,
          0.37489060148386705,
          0.3400863688854597,
          0.3019022051627387,
          0.26071760168974906,
          0.21694186955877912,
          0.17101007166283425,
          0.12337869884514671,
          0.07452113308808714,
          0.02492294283034852,
          -0.024922942830348616,
          -0.07452113308808724,
          -0.12337869884514681,
          -0.17101007166283433,
          -0.216941869558779,
          -0.26071760168974917,
          -0.30190220516273875,
          -0.34008636888545973,
          -0.3748906014838671,
          -0.40596900285792825,
          -0.4330127018922194,
          -0.45575292615583657,
          -0.4739636730835659,
          -0.4874639560909118,
          -0.49611960330008603,
          -0.4998445910004081,
          -0.49860189859059006,
          -0.492403876506104,
          -0.481312123475006,
          -0.46543687432210207,
          -0.44493590440573433,
          -0.42001296157538565,
          -0.39091574123401496,
          -0.35793342462985916,
          -0.32139380484326946,
          -0.281660029031811,
          -0.2391269893106589,
          -0.19421739813734737,
          -0.14737758720545194,
          -0.09907307159969886,
          -0.049783923297908206,
          -1.2246467991473532e-16
         ]
        }
       ],
       "layout": {
        "autosize": false,
        "height": 700,
        "template": {
         "data": {
          "bar": [
           {
            "error_x": {
             "color": "#f2f5fa"
            },
            "error_y": {
             "color": "#f2f5fa"
            },
            "marker": {
             "line": {
              "color": "rgb(17,17,17)",
              "width": 0.5
             }
            },
            "type": "bar"
           }
          ],
          "barpolar": [
           {
            "marker": {
             "line": {
              "color": "rgb(17,17,17)",
              "width": 0.5
             }
            },
            "type": "barpolar"
           }
          ],
          "carpet": [
           {
            "aaxis": {
             "endlinecolor": "#A2B1C6",
             "gridcolor": "#506784",
             "linecolor": "#506784",
             "minorgridcolor": "#506784",
             "startlinecolor": "#A2B1C6"
            },
            "baxis": {
             "endlinecolor": "#A2B1C6",
             "gridcolor": "#506784",
             "linecolor": "#506784",
             "minorgridcolor": "#506784",
             "startlinecolor": "#A2B1C6"
            },
            "type": "carpet"
           }
          ],
          "choropleth": [
           {
            "colorbar": {
             "outlinewidth": 0,
             "ticks": ""
            },
            "type": "choropleth"
           }
          ],
          "contour": [
           {
            "colorbar": {
             "outlinewidth": 0,
             "ticks": ""
            },
            "colorscale": [
             [
              0,
              "#0d0887"
             ],
             [
              0.1111111111111111,
              "#46039f"
             ],
             [
              0.2222222222222222,
              "#7201a8"
             ],
             [
              0.3333333333333333,
              "#9c179e"
             ],
             [
              0.4444444444444444,
              "#bd3786"
             ],
             [
              0.5555555555555556,
              "#d8576b"
             ],
             [
              0.6666666666666666,
              "#ed7953"
             ],
             [
              0.7777777777777778,
              "#fb9f3a"
             ],
             [
              0.8888888888888888,
              "#fdca26"
             ],
             [
              1,
              "#f0f921"
             ]
            ],
            "type": "contour"
           }
          ],
          "contourcarpet": [
           {
            "colorbar": {
             "outlinewidth": 0,
             "ticks": ""
            },
            "type": "contourcarpet"
           }
          ],
          "heatmap": [
           {
            "colorbar": {
             "outlinewidth": 0,
             "ticks": ""
            },
            "colorscale": [
             [
              0,
              "#0d0887"
             ],
             [
              0.1111111111111111,
              "#46039f"
             ],
             [
              0.2222222222222222,
              "#7201a8"
             ],
             [
              0.3333333333333333,
              "#9c179e"
             ],
             [
              0.4444444444444444,
              "#bd3786"
             ],
             [
              0.5555555555555556,
              "#d8576b"
             ],
             [
              0.6666666666666666,
              "#ed7953"
             ],
             [
              0.7777777777777778,
              "#fb9f3a"
             ],
             [
              0.8888888888888888,
              "#fdca26"
             ],
             [
              1,
              "#f0f921"
             ]
            ],
            "type": "heatmap"
           }
          ],
          "heatmapgl": [
           {
            "colorbar": {
             "outlinewidth": 0,
             "ticks": ""
            },
            "colorscale": [
             [
              0,
              "#0d0887"
             ],
             [
              0.1111111111111111,
              "#46039f"
             ],
             [
              0.2222222222222222,
              "#7201a8"
             ],
             [
              0.3333333333333333,
              "#9c179e"
             ],
             [
              0.4444444444444444,
              "#bd3786"
             ],
             [
              0.5555555555555556,
              "#d8576b"
             ],
             [
              0.6666666666666666,
              "#ed7953"
             ],
             [
              0.7777777777777778,
              "#fb9f3a"
             ],
             [
              0.8888888888888888,
              "#fdca26"
             ],
             [
              1,
              "#f0f921"
             ]
            ],
            "type": "heatmapgl"
           }
          ],
          "histogram": [
           {
            "marker": {
             "colorbar": {
              "outlinewidth": 0,
              "ticks": ""
             }
            },
            "type": "histogram"
           }
          ],
          "histogram2d": [
           {
            "colorbar": {
             "outlinewidth": 0,
             "ticks": ""
            },
            "colorscale": [
             [
              0,
              "#0d0887"
             ],
             [
              0.1111111111111111,
              "#46039f"
             ],
             [
              0.2222222222222222,
              "#7201a8"
             ],
             [
              0.3333333333333333,
              "#9c179e"
             ],
             [
              0.4444444444444444,
              "#bd3786"
             ],
             [
              0.5555555555555556,
              "#d8576b"
             ],
             [
              0.6666666666666666,
              "#ed7953"
             ],
             [
              0.7777777777777778,
              "#fb9f3a"
             ],
             [
              0.8888888888888888,
              "#fdca26"
             ],
             [
              1,
              "#f0f921"
             ]
            ],
            "type": "histogram2d"
           }
          ],
          "histogram2dcontour": [
           {
            "colorbar": {
             "outlinewidth": 0,
             "ticks": ""
            },
            "colorscale": [
             [
              0,
              "#0d0887"
             ],
             [
              0.1111111111111111,
              "#46039f"
             ],
             [
              0.2222222222222222,
              "#7201a8"
             ],
             [
              0.3333333333333333,
              "#9c179e"
             ],
             [
              0.4444444444444444,
              "#bd3786"
             ],
             [
              0.5555555555555556,
              "#d8576b"
             ],
             [
              0.6666666666666666,
              "#ed7953"
             ],
             [
              0.7777777777777778,
              "#fb9f3a"
             ],
             [
              0.8888888888888888,
              "#fdca26"
             ],
             [
              1,
              "#f0f921"
             ]
            ],
            "type": "histogram2dcontour"
           }
          ],
          "mesh3d": [
           {
            "colorbar": {
             "outlinewidth": 0,
             "ticks": ""
            },
            "type": "mesh3d"
           }
          ],
          "parcoords": [
           {
            "line": {
             "colorbar": {
              "outlinewidth": 0,
              "ticks": ""
             }
            },
            "type": "parcoords"
           }
          ],
          "pie": [
           {
            "automargin": true,
            "type": "pie"
           }
          ],
          "scatter": [
           {
            "marker": {
             "line": {
              "color": "#283442"
             }
            },
            "type": "scatter"
           }
          ],
          "scatter3d": [
           {
            "line": {
             "colorbar": {
              "outlinewidth": 0,
              "ticks": ""
             }
            },
            "marker": {
             "colorbar": {
              "outlinewidth": 0,
              "ticks": ""
             }
            },
            "type": "scatter3d"
           }
          ],
          "scattercarpet": [
           {
            "marker": {
             "colorbar": {
              "outlinewidth": 0,
              "ticks": ""
             }
            },
            "type": "scattercarpet"
           }
          ],
          "scattergeo": [
           {
            "marker": {
             "colorbar": {
              "outlinewidth": 0,
              "ticks": ""
             }
            },
            "type": "scattergeo"
           }
          ],
          "scattergl": [
           {
            "marker": {
             "line": {
              "color": "#283442"
             }
            },
            "type": "scattergl"
           }
          ],
          "scattermapbox": [
           {
            "marker": {
             "colorbar": {
              "outlinewidth": 0,
              "ticks": ""
             }
            },
            "type": "scattermapbox"
           }
          ],
          "scatterpolar": [
           {
            "marker": {
             "colorbar": {
              "outlinewidth": 0,
              "ticks": ""
             }
            },
            "type": "scatterpolar"
           }
          ],
          "scatterpolargl": [
           {
            "marker": {
             "colorbar": {
              "outlinewidth": 0,
              "ticks": ""
             }
            },
            "type": "scatterpolargl"
           }
          ],
          "scatterternary": [
           {
            "marker": {
             "colorbar": {
              "outlinewidth": 0,
              "ticks": ""
             }
            },
            "type": "scatterternary"
           }
          ],
          "surface": [
           {
            "colorbar": {
             "outlinewidth": 0,
             "ticks": ""
            },
            "colorscale": [
             [
              0,
              "#0d0887"
             ],
             [
              0.1111111111111111,
              "#46039f"
             ],
             [
              0.2222222222222222,
              "#7201a8"
             ],
             [
              0.3333333333333333,
              "#9c179e"
             ],
             [
              0.4444444444444444,
              "#bd3786"
             ],
             [
              0.5555555555555556,
              "#d8576b"
             ],
             [
              0.6666666666666666,
              "#ed7953"
             ],
             [
              0.7777777777777778,
              "#fb9f3a"
             ],
             [
              0.8888888888888888,
              "#fdca26"
             ],
             [
              1,
              "#f0f921"
             ]
            ],
            "type": "surface"
           }
          ],
          "table": [
           {
            "cells": {
             "fill": {
              "color": "#506784"
             },
             "line": {
              "color": "rgb(17,17,17)"
             }
            },
            "header": {
             "fill": {
              "color": "#2a3f5f"
             },
             "line": {
              "color": "rgb(17,17,17)"
             }
            },
            "type": "table"
           }
          ]
         },
         "layout": {
          "annotationdefaults": {
           "arrowcolor": "#f2f5fa",
           "arrowhead": 0,
           "arrowwidth": 1
          },
          "coloraxis": {
           "colorbar": {
            "outlinewidth": 0,
            "ticks": ""
           }
          },
          "colorscale": {
           "diverging": [
            [
             0,
             "#8e0152"
            ],
            [
             0.1,
             "#c51b7d"
            ],
            [
             0.2,
             "#de77ae"
            ],
            [
             0.3,
             "#f1b6da"
            ],
            [
             0.4,
             "#fde0ef"
            ],
            [
             0.5,
             "#f7f7f7"
            ],
            [
             0.6,
             "#e6f5d0"
            ],
            [
             0.7,
             "#b8e186"
            ],
            [
             0.8,
             "#7fbc41"
            ],
            [
             0.9,
             "#4d9221"
            ],
            [
             1,
             "#276419"
            ]
           ],
           "sequential": [
            [
             0,
             "#0d0887"
            ],
            [
             0.1111111111111111,
             "#46039f"
            ],
            [
             0.2222222222222222,
             "#7201a8"
            ],
            [
             0.3333333333333333,
             "#9c179e"
            ],
            [
             0.4444444444444444,
             "#bd3786"
            ],
            [
             0.5555555555555556,
             "#d8576b"
            ],
            [
             0.6666666666666666,
             "#ed7953"
            ],
            [
             0.7777777777777778,
             "#fb9f3a"
            ],
            [
             0.8888888888888888,
             "#fdca26"
            ],
            [
             1,
             "#f0f921"
            ]
           ],
           "sequentialminus": [
            [
             0,
             "#0d0887"
            ],
            [
             0.1111111111111111,
             "#46039f"
            ],
            [
             0.2222222222222222,
             "#7201a8"
            ],
            [
             0.3333333333333333,
             "#9c179e"
            ],
            [
             0.4444444444444444,
             "#bd3786"
            ],
            [
             0.5555555555555556,
             "#d8576b"
            ],
            [
             0.6666666666666666,
             "#ed7953"
            ],
            [
             0.7777777777777778,
             "#fb9f3a"
            ],
            [
             0.8888888888888888,
             "#fdca26"
            ],
            [
             1,
             "#f0f921"
            ]
           ]
          },
          "colorway": [
           "#636efa",
           "#EF553B",
           "#00cc96",
           "#ab63fa",
           "#FFA15A",
           "#19d3f3",
           "#FF6692",
           "#B6E880",
           "#FF97FF",
           "#FECB52"
          ],
          "font": {
           "color": "#f2f5fa"
          },
          "geo": {
           "bgcolor": "rgb(17,17,17)",
           "lakecolor": "rgb(17,17,17)",
           "landcolor": "rgb(17,17,17)",
           "showlakes": true,
           "showland": true,
           "subunitcolor": "#506784"
          },
          "hoverlabel": {
           "align": "left"
          },
          "hovermode": "closest",
          "mapbox": {
           "style": "dark"
          },
          "paper_bgcolor": "rgb(17,17,17)",
          "plot_bgcolor": "rgb(17,17,17)",
          "polar": {
           "angularaxis": {
            "gridcolor": "#506784",
            "linecolor": "#506784",
            "ticks": ""
           },
           "bgcolor": "rgb(17,17,17)",
           "radialaxis": {
            "gridcolor": "#506784",
            "linecolor": "#506784",
            "ticks": ""
           }
          },
          "scene": {
           "xaxis": {
            "backgroundcolor": "rgb(17,17,17)",
            "gridcolor": "#506784",
            "gridwidth": 2,
            "linecolor": "#506784",
            "showbackground": true,
            "ticks": "",
            "zerolinecolor": "#C8D4E3"
           },
           "yaxis": {
            "backgroundcolor": "rgb(17,17,17)",
            "gridcolor": "#506784",
            "gridwidth": 2,
            "linecolor": "#506784",
            "showbackground": true,
            "ticks": "",
            "zerolinecolor": "#C8D4E3"
           },
           "zaxis": {
            "backgroundcolor": "rgb(17,17,17)",
            "gridcolor": "#506784",
            "gridwidth": 2,
            "linecolor": "#506784",
            "showbackground": true,
            "ticks": "",
            "zerolinecolor": "#C8D4E3"
           }
          },
          "shapedefaults": {
           "line": {
            "color": "#f2f5fa"
           }
          },
          "sliderdefaults": {
           "bgcolor": "#C8D4E3",
           "bordercolor": "rgb(17,17,17)",
           "borderwidth": 1,
           "tickwidth": 0
          },
          "ternary": {
           "aaxis": {
            "gridcolor": "#506784",
            "linecolor": "#506784",
            "ticks": ""
           },
           "baxis": {
            "gridcolor": "#506784",
            "linecolor": "#506784",
            "ticks": ""
           },
           "bgcolor": "rgb(17,17,17)",
           "caxis": {
            "gridcolor": "#506784",
            "linecolor": "#506784",
            "ticks": ""
           }
          },
          "title": {
           "x": 0.05
          },
          "updatemenudefaults": {
           "bgcolor": "#506784",
           "borderwidth": 0
          },
          "xaxis": {
           "automargin": true,
           "gridcolor": "#283442",
           "linecolor": "#506784",
           "ticks": "",
           "title": {
            "standoff": 15
           },
           "zerolinecolor": "#283442",
           "zerolinewidth": 2
          },
          "yaxis": {
           "automargin": true,
           "gridcolor": "#283442",
           "linecolor": "#506784",
           "ticks": "",
           "title": {
            "standoff": 15
           },
           "zerolinecolor": "#283442",
           "zerolinewidth": 2
          }
         }
        },
        "title": {
         "text": "Circle"
        },
        "width": 700,
        "xaxis": {
         "range": [
          -1,
          1
         ]
        },
        "yaxis": {
         "range": [
          -1,
          1
         ]
        }
       }
      }
     },
     "metadata": {}
    }
   ],
   "source": [
    "circle = televector.shapes.Circle(center=[0.5, 0], radius=0.5)\n",
    "circle.plot()"
   ]
  },
  {
   "cell_type": "code",
   "execution_count": 3,
   "metadata": {},
   "outputs": [
    {
     "output_type": "execute_result",
     "data": {
      "text/plain": "<IPython.lib.display.Audio object>",
      "text/html": "\n                <audio  controls=\"controls\" >\n                    <source src=\"data:audio/wav;base64,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\" type=\"audio/wav\" />\n                    Your browser does not support the audio element.\n                </audio>\n              "
     },
     "metadata": {},
     "execution_count": 3
    }
   ],
   "source": [
    "display = televector.displays.AudioDisplay()\n",
    "display.display(circle, duration=1.0)"
   ]
  }
 ]
}